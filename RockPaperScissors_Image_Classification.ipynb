{
  "nbformat": 4,
  "nbformat_minor": 0,
  "metadata": {
    "colab": {
      "name": "RockPaperScissors-Image-Classification.ipynb",
      "provenance": [],
      "collapsed_sections": []
    },
    "kernelspec": {
      "name": "python3",
      "display_name": "Python 3"
    },
    "accelerator": "GPU"
  },
  "cells": [
    {
      "cell_type": "markdown",
      "metadata": {
        "id": "YCdhJlKxML9A"
      },
      "source": [
        "Nama: Timotius Haniel\n",
        "\n",
        "Username Dicoding: https://www.dicoding.com/users/timotiushaniel186\n",
        "\n",
        "Domisili Asal: Bandung, Jawa Barat\n",
        "\n",
        "Pekerjaan: Mahasiswa Institut Teknologi Harapan Bangsa, Bandung"
      ]
    },
    {
      "cell_type": "code",
      "metadata": {
        "id": "eDO6OfHeL-sF",
        "outputId": "d8f8288b-6bbd-4b5b-a778-dd7abff0ff3c",
        "colab": {
          "base_uri": "https://localhost:8080/",
          "height": 50
        }
      },
      "source": [
        "import tensorflow as tf\n",
        "from tensorflow.keras.optimizers import RMSprop\n",
        "from tensorflow.keras.preprocessing.image import ImageDataGenerator\n",
        "from sklearn.model_selection import train_test_split\n",
        "import os\n",
        "\n",
        "print(tf.__version__)\n",
        "device_name = tf.test.gpu_device_name()\n",
        "if device_name != '/device:GPU:0':\n",
        "  raise SystemError('GPU device not found')\n",
        "print('Found GPU at: {}'.format(device_name))"
      ],
      "execution_count": 1,
      "outputs": [
        {
          "output_type": "stream",
          "text": [
            "2.3.0\n",
            "Found GPU at: /device:GPU:0\n"
          ],
          "name": "stdout"
        }
      ]
    },
    {
      "cell_type": "markdown",
      "metadata": {
        "id": "ru080Ph_P4AD"
      },
      "source": [
        "**Men-download dataset dalam bentuk zip**"
      ]
    },
    {
      "cell_type": "code",
      "metadata": {
        "id": "aE78EbhUMVod",
        "outputId": "a5134c23-8209-4ec8-faaf-003c55bdc6da",
        "colab": {
          "base_uri": "https://localhost:8080/",
          "height": 202
        }
      },
      "source": [
        "# melakukan download file dalam bentuk zip\n",
        "!wget --no-check-certificate \\\n",
        "https://dicodingacademy.blob.core.windows.net/picodiploma/ml_pemula_academy/rockpaperscissors.zip \\\n",
        "  -O /tmp/rockpaperscissors.zip"
      ],
      "execution_count": 2,
      "outputs": [
        {
          "output_type": "stream",
          "text": [
            "--2020-10-24 17:17:12--  https://dicodingacademy.blob.core.windows.net/picodiploma/ml_pemula_academy/rockpaperscissors.zip\n",
            "Resolving dicodingacademy.blob.core.windows.net (dicodingacademy.blob.core.windows.net)... 52.239.197.36\n",
            "Connecting to dicodingacademy.blob.core.windows.net (dicodingacademy.blob.core.windows.net)|52.239.197.36|:443... connected.\n",
            "HTTP request sent, awaiting response... 200 OK\n",
            "Length: 322873683 (308M) [application/zip]\n",
            "Saving to: ‘/tmp/rockpaperscissors.zip’\n",
            "\n",
            "/tmp/rockpapersciss 100%[===================>] 307.92M  5.23MB/s    in 46s     \n",
            "\n",
            "2020-10-24 17:17:59 (6.69 MB/s) - ‘/tmp/rockpaperscissors.zip’ saved [322873683/322873683]\n",
            "\n"
          ],
          "name": "stdout"
        }
      ]
    },
    {
      "cell_type": "markdown",
      "metadata": {
        "id": "F2bvSKC6QAwL"
      },
      "source": [
        "**Meng-ekstrak file zip data set**"
      ]
    },
    {
      "cell_type": "code",
      "metadata": {
        "id": "d0LTtuzdMqpc"
      },
      "source": [
        "import zipfile\n",
        "\n",
        "local_zip = '/tmp/rockpaperscissors.zip'\n",
        "zip_ref = zipfile.ZipFile(local_zip,'r')\n",
        "zip_ref.extractall('/tmp')\n",
        "zip_ref.close()"
      ],
      "execution_count": 3,
      "outputs": []
    },
    {
      "cell_type": "markdown",
      "metadata": {
        "id": "66wNHfk6QIVm"
      },
      "source": [
        "**Membuat split data set menjadi train dan validation, lalu membuat direktori split data set tersebut**"
      ]
    },
    {
      "cell_type": "code",
      "metadata": {
        "id": "hJZZZ5XKOD75"
      },
      "source": [
        "# Membuat folder untuk dataset\n",
        "base_dir = '/tmp/rockpaperscissors'\n",
        "dataset = os.path.join(base_dir,'dataset')\n",
        "\n",
        "os.mkdir(dataset)"
      ],
      "execution_count": 4,
      "outputs": []
    },
    {
      "cell_type": "code",
      "metadata": {
        "id": "88Dh43S6OZ0m"
      },
      "source": [
        "# Split dataset menjadi train dir dan validation dir\n",
        "base_dir = '/tmp/rockpaperscissors/dataset'\n",
        "train_dir = os.path.join(base_dir,'train')\n",
        "validation_dir = os.path.join(base_dir, 'val')\n",
        "\n",
        "os.mkdir(train_dir)\n",
        "os.mkdir(validation_dir)"
      ],
      "execution_count": 5,
      "outputs": []
    },
    {
      "cell_type": "code",
      "metadata": {
        "id": "smTwrBSRPHBg"
      },
      "source": [
        "# Membuat split untuk tipe dataset train dan validation untuk setiap kategori rock, paper, dan scissors\n",
        "train_rock = os.path.join(train_dir, 'rock')\n",
        "train_paper = os.path.join(train_dir, 'paper')\n",
        "train_scissors = os.path.join(train_dir, 'scissors')\n",
        "\n",
        "val_rock = os.path.join(validation_dir, 'rock')\n",
        "val_paper = os.path.join(validation_dir, 'paper')\n",
        "val_scissors = os.path.join(validation_dir, 'scissors')"
      ],
      "execution_count": 6,
      "outputs": []
    },
    {
      "cell_type": "code",
      "metadata": {
        "id": "qNH3gwizPqJv"
      },
      "source": [
        "# Membuat folder untuk split data yang telah dibuat untuk setiap kategori rock, paper, dan scissors\n",
        "os.mkdir(train_rock)\n",
        "os.mkdir(train_paper)\n",
        "os.mkdir(train_scissors)\n",
        "\n",
        "os.mkdir(val_rock)\n",
        "os.mkdir(val_paper)\n",
        "os.mkdir(val_scissors)"
      ],
      "execution_count": 7,
      "outputs": []
    },
    {
      "cell_type": "markdown",
      "metadata": {
        "id": "5VV0cgVhQgcJ"
      },
      "source": [
        "**Menghitung list foto pada direktori untuk setiap kategori rock, paper, dan scissors**"
      ]
    },
    {
      "cell_type": "code",
      "metadata": {
        "id": "ape3GAICQj_r",
        "outputId": "69beefdb-127a-465c-c31a-f395a3f072a3",
        "colab": {
          "base_uri": "https://localhost:8080/",
          "height": 34
        }
      },
      "source": [
        "#Rock\n",
        "len(os.listdir('/tmp/rockpaperscissors/rock'))"
      ],
      "execution_count": 8,
      "outputs": [
        {
          "output_type": "execute_result",
          "data": {
            "text/plain": [
              "726"
            ]
          },
          "metadata": {
            "tags": []
          },
          "execution_count": 8
        }
      ]
    },
    {
      "cell_type": "code",
      "metadata": {
        "id": "M90IWNagQrdw",
        "outputId": "484f88f0-894c-4bd5-cc6e-7954abe8a56c",
        "colab": {
          "base_uri": "https://localhost:8080/",
          "height": 34
        }
      },
      "source": [
        "#Paper\n",
        "len(os.listdir('/tmp/rockpaperscissors/paper'))"
      ],
      "execution_count": 9,
      "outputs": [
        {
          "output_type": "execute_result",
          "data": {
            "text/plain": [
              "712"
            ]
          },
          "metadata": {
            "tags": []
          },
          "execution_count": 9
        }
      ]
    },
    {
      "cell_type": "code",
      "metadata": {
        "id": "GvqUA2vpRAF8",
        "outputId": "f49b4962-c7b6-453c-8cb6-e4134aee0ea2",
        "colab": {
          "base_uri": "https://localhost:8080/",
          "height": 34
        }
      },
      "source": [
        "#Scissors\n",
        "len(os.listdir('/tmp/rockpaperscissors/scissors'))"
      ],
      "execution_count": 10,
      "outputs": [
        {
          "output_type": "execute_result",
          "data": {
            "text/plain": [
              "750"
            ]
          },
          "metadata": {
            "tags": []
          },
          "execution_count": 10
        }
      ]
    },
    {
      "cell_type": "markdown",
      "metadata": {
        "id": "bocJfiJ5RG1P"
      },
      "source": [
        "**Memecah direktori rock, paper, dan scissors menjadi data train dan data validation sebesar 40% dari total data set**"
      ]
    },
    {
      "cell_type": "code",
      "metadata": {
        "id": "ar6oStKYRMoc"
      },
      "source": [
        "base_dir = '/tmp/rockpaperscissors'\n",
        "\n",
        "rock_dir = os.path.join(base_dir,'rock')\n",
        "paper_dir = os.path.join(base_dir,'paper')\n",
        "scissors_dir = os.path.join(base_dir,'scissors')"
      ],
      "execution_count": 11,
      "outputs": []
    },
    {
      "cell_type": "code",
      "metadata": {
        "id": "qhUP5e0RRrQ7"
      },
      "source": [
        "# Rock\n",
        "train_rock_dir, val_rock_dir = train_test_split(os.listdir(rock_dir), test_size = 0.40)\n",
        "\n",
        "# Paper\n",
        "train_paper_dir, val_paper_dir = train_test_split(os.listdir(paper_dir), test_size = 0.40)\n",
        "\n",
        "# Scissors\n",
        "train_scissors_dir, val_scissors_dir = train_test_split(os.listdir(scissors_dir), test_size = 0.40)"
      ],
      "execution_count": 12,
      "outputs": []
    },
    {
      "cell_type": "code",
      "metadata": {
        "id": "r3vdntdvSXSZ"
      },
      "source": [
        "train_rock = os.path.join(train_dir, 'rock')\n",
        "train_paper = os.path.join(train_dir, 'paper')\n",
        "train_scissors = os.path.join(train_dir, 'scissors')\n",
        "\n",
        "val_rock = os.path.join(validation_dir, 'rock')\n",
        "val_paper = os.path.join(validation_dir, 'paper')\n",
        "val_scissors = os.path.join(validation_dir, 'scissors')"
      ],
      "execution_count": 13,
      "outputs": []
    },
    {
      "cell_type": "markdown",
      "metadata": {
        "id": "YmmeKSorUN4m"
      },
      "source": [
        "**Meng-copy data train dan data validation ke directory dataset (direktori baru)**"
      ]
    },
    {
      "cell_type": "code",
      "metadata": {
        "id": "vAQ4VTBnTw0_"
      },
      "source": [
        "import shutil\n",
        "\n",
        "for file in train_rock_dir:\n",
        "  shutil.copy(os.path.join(rock_dir, file), os.path.join(train_rock, file))\n",
        "for file in train_paper_dir:\n",
        "  shutil.copy(os.path.join(paper_dir,file), os.path.join(train_paper,file))\n",
        "for file in train_scissors_dir:\n",
        "  shutil.copy(os.path.join(scissors_dir,file), os.path.join(train_scissors,file))\n",
        "for file in val_rock_dir:\n",
        "  shutil.copy(os.path.join(rock_dir, file), os.path.join(val_rock,file))\n",
        "for file in val_paper_dir:\n",
        "  shutil.copy(os.path.join(paper_dir,file), os.path.join(val_paper,file))\n",
        "for file in val_scissors_dir:\n",
        "  shutil.copy(os.path.join(scissors_dir,file), os.path.join(val_scissors,file))"
      ],
      "execution_count": 14,
      "outputs": []
    },
    {
      "cell_type": "markdown",
      "metadata": {
        "id": "HGL-nAUPUYhi"
      },
      "source": [
        "**Menghitung list foto pada direktori train data untuk setiap kategori rock, paper, dan scissors**"
      ]
    },
    {
      "cell_type": "code",
      "metadata": {
        "id": "seZrCTIeUbR-",
        "outputId": "ee39e8a8-36e8-43e5-fb91-a61337ba9731",
        "colab": {
          "base_uri": "https://localhost:8080/",
          "height": 34
        }
      },
      "source": [
        "#Rock (Train Data)\n",
        "len(os.listdir('/tmp/rockpaperscissors/dataset/train/rock'))"
      ],
      "execution_count": 15,
      "outputs": [
        {
          "output_type": "execute_result",
          "data": {
            "text/plain": [
              "435"
            ]
          },
          "metadata": {
            "tags": []
          },
          "execution_count": 15
        }
      ]
    },
    {
      "cell_type": "code",
      "metadata": {
        "id": "nowRhYYHUoK9",
        "outputId": "b1f06cb1-cef6-4f65-9d1d-eac5c23b5dd7",
        "colab": {
          "base_uri": "https://localhost:8080/",
          "height": 34
        }
      },
      "source": [
        "#Paper (Train Data)\n",
        "len(os.listdir('/tmp/rockpaperscissors/dataset/train/paper'))"
      ],
      "execution_count": 16,
      "outputs": [
        {
          "output_type": "execute_result",
          "data": {
            "text/plain": [
              "427"
            ]
          },
          "metadata": {
            "tags": []
          },
          "execution_count": 16
        }
      ]
    },
    {
      "cell_type": "code",
      "metadata": {
        "id": "LaMh1z6BUq3J",
        "outputId": "20c29e8d-5e51-4da1-e5e7-dca823bd1566",
        "colab": {
          "base_uri": "https://localhost:8080/",
          "height": 34
        }
      },
      "source": [
        "#Scissors (Train Data)\n",
        "len(os.listdir('/tmp/rockpaperscissors/dataset/train/scissors'))"
      ],
      "execution_count": 17,
      "outputs": [
        {
          "output_type": "execute_result",
          "data": {
            "text/plain": [
              "450"
            ]
          },
          "metadata": {
            "tags": []
          },
          "execution_count": 17
        }
      ]
    },
    {
      "cell_type": "markdown",
      "metadata": {
        "id": "-UE0a1hCVN8u"
      },
      "source": [
        "**Menghitung list foto pada direktori validation data untuk setiap kategori rock, paper, dan scissors**"
      ]
    },
    {
      "cell_type": "code",
      "metadata": {
        "id": "4pg9sDOQU2IQ",
        "outputId": "207b405b-852a-4671-a773-822464881d6a",
        "colab": {
          "base_uri": "https://localhost:8080/",
          "height": 34
        }
      },
      "source": [
        "#Rock (Validation Data)\n",
        "len(os.listdir('/tmp/rockpaperscissors/dataset/val/rock'))"
      ],
      "execution_count": 18,
      "outputs": [
        {
          "output_type": "execute_result",
          "data": {
            "text/plain": [
              "291"
            ]
          },
          "metadata": {
            "tags": []
          },
          "execution_count": 18
        }
      ]
    },
    {
      "cell_type": "code",
      "metadata": {
        "id": "FsmHaLo-VX8x",
        "outputId": "53270d33-bfe9-43c4-b988-7060c6ab4fef",
        "colab": {
          "base_uri": "https://localhost:8080/",
          "height": 34
        }
      },
      "source": [
        "#Paper (Validation Data)\n",
        "len(os.listdir('/tmp/rockpaperscissors/dataset/val/paper'))"
      ],
      "execution_count": 19,
      "outputs": [
        {
          "output_type": "execute_result",
          "data": {
            "text/plain": [
              "285"
            ]
          },
          "metadata": {
            "tags": []
          },
          "execution_count": 19
        }
      ]
    },
    {
      "cell_type": "code",
      "metadata": {
        "id": "OxqMQgrGVbmx",
        "outputId": "8a8fc613-c5b6-4fc1-ae19-8f684343cc38",
        "colab": {
          "base_uri": "https://localhost:8080/",
          "height": 34
        }
      },
      "source": [
        "#Scissors (Validation Data)\n",
        "len(os.listdir('/tmp/rockpaperscissors/dataset/val/scissors'))"
      ],
      "execution_count": 20,
      "outputs": [
        {
          "output_type": "execute_result",
          "data": {
            "text/plain": [
              "300"
            ]
          },
          "metadata": {
            "tags": []
          },
          "execution_count": 20
        }
      ]
    },
    {
      "cell_type": "markdown",
      "metadata": {
        "id": "Kp8x-gy-3JoM"
      },
      "source": [
        "**Mengimplementasikan augmentasi gambar untuk menggambarkan data-data baru dari datasets**"
      ]
    },
    {
      "cell_type": "code",
      "metadata": {
        "id": "_j6Brdgw3iJg"
      },
      "source": [
        "from tensorflow.keras.preprocessing.image import ImageDataGenerator\n",
        " \n",
        "train_datagen = ImageDataGenerator(\n",
        "                    rescale=1./255,\n",
        "                    rotation_range=20,\n",
        "                    horizontal_flip=True,\n",
        "                    vertical_flip = True,\n",
        "                    zoom_range = 0.2,\n",
        "                    shear_range = 0.2,\n",
        "                    fill_mode = 'nearest')\n",
        " \n",
        "test_datagen = ImageDataGenerator(\n",
        "                    rescale=1./255,\n",
        "                    rotation_range=20,\n",
        "                    horizontal_flip=True,\n",
        "                    vertical_flip = True,\n",
        "                    zoom_range = 0.2,\n",
        "                    shear_range = 0.2,\n",
        "                    fill_mode = 'nearest')"
      ],
      "execution_count": 21,
      "outputs": []
    },
    {
      "cell_type": "markdown",
      "metadata": {
        "id": "Klhchp1I4Ab5"
      },
      "source": [
        "**Mengimplementasikan image data generator untuk menyiapkan data latih yang digunakan oleh model untuk dipelajari**"
      ]
    },
    {
      "cell_type": "code",
      "metadata": {
        "id": "6VBzxxF-4OnV",
        "outputId": "ee869538-d4c3-40d6-f0ea-03757a00325d",
        "colab": {
          "base_uri": "https://localhost:8080/",
          "height": 50
        }
      },
      "source": [
        "train_generator = train_datagen.flow_from_directory(\n",
        "        train_dir,  # direktori data latih\n",
        "        target_size=(150, 150),  # mengubah resolusi seluruh gambar menjadi 256x256 piksel\n",
        "        batch_size=32,\n",
        "        # karena kita merupakan masalah klasifikasi 2 kelas maka menggunakan class_mode = 'binary'\n",
        "        class_mode='categorical',\n",
        "        seed=39)\n",
        " \n",
        "validation_generator = test_datagen.flow_from_directory(\n",
        "        validation_dir, # direktori data validasi\n",
        "        target_size=(150, 150), # mengubah resolusi seluruh gambar menjadi 256x256 piksel\n",
        "        batch_size=32, # karena kita merupakan masalah klasifikasi 2 kelas maka menggunakan class_mode = 'binary'\n",
        "        class_mode='categorical',\n",
        "        seed=39)"
      ],
      "execution_count": 22,
      "outputs": [
        {
          "output_type": "stream",
          "text": [
            "Found 1312 images belonging to 3 classes.\n",
            "Found 876 images belonging to 3 classes.\n"
          ],
          "name": "stdout"
        }
      ]
    },
    {
      "cell_type": "markdown",
      "metadata": {
        "id": "vu6QQr7h5aGt"
      },
      "source": [
        "**Membangun arsitektur Convolutional Neural Network untuk mempercepat proses pelatihan Muti Layer Perceptron**"
      ]
    },
    {
      "cell_type": "code",
      "metadata": {
        "id": "u42AaSs05rRJ"
      },
      "source": [
        "model = tf.keras.models.Sequential([\n",
        "    tf.keras.layers.Conv2D(32, (3,3), activation='relu', input_shape=(150, 150, 3)),\n",
        "    tf.keras.layers.MaxPooling2D(2, 2),\n",
        "    tf.keras.layers.Conv2D(64, (3,3), activation='relu'),\n",
        "    tf.keras.layers.MaxPooling2D(2,2),\n",
        "    tf.keras.layers.Conv2D(128, (3,3), activation='relu'),\n",
        "    tf.keras.layers.MaxPooling2D(2,2),\n",
        "    tf.keras.layers.Conv2D(128, (3,3), activation='relu'),\n",
        "    tf.keras.layers.MaxPooling2D(2,2),\n",
        "    tf.keras.layers.Flatten(),\n",
        "    tf.keras.layers.Dropout(0.5),\n",
        "    tf.keras.layers.Dense(512, activation='relu'),\n",
        "    tf.keras.layers.Dense(3, activation='softmax')\n",
        "])"
      ],
      "execution_count": 23,
      "outputs": []
    },
    {
      "cell_type": "code",
      "metadata": {
        "id": "yh7WdumCI1wk",
        "outputId": "ca658d6e-70a8-4c67-bba3-c0dbd7541d75",
        "colab": {
          "base_uri": "https://localhost:8080/",
          "height": 554
        }
      },
      "source": [
        "# Data Model Summary\n",
        "model.summary()"
      ],
      "execution_count": 24,
      "outputs": [
        {
          "output_type": "stream",
          "text": [
            "Model: \"sequential\"\n",
            "_________________________________________________________________\n",
            "Layer (type)                 Output Shape              Param #   \n",
            "=================================================================\n",
            "conv2d (Conv2D)              (None, 148, 148, 32)      896       \n",
            "_________________________________________________________________\n",
            "max_pooling2d (MaxPooling2D) (None, 74, 74, 32)        0         \n",
            "_________________________________________________________________\n",
            "conv2d_1 (Conv2D)            (None, 72, 72, 64)        18496     \n",
            "_________________________________________________________________\n",
            "max_pooling2d_1 (MaxPooling2 (None, 36, 36, 64)        0         \n",
            "_________________________________________________________________\n",
            "conv2d_2 (Conv2D)            (None, 34, 34, 128)       73856     \n",
            "_________________________________________________________________\n",
            "max_pooling2d_2 (MaxPooling2 (None, 17, 17, 128)       0         \n",
            "_________________________________________________________________\n",
            "conv2d_3 (Conv2D)            (None, 15, 15, 128)       147584    \n",
            "_________________________________________________________________\n",
            "max_pooling2d_3 (MaxPooling2 (None, 7, 7, 128)         0         \n",
            "_________________________________________________________________\n",
            "flatten (Flatten)            (None, 6272)              0         \n",
            "_________________________________________________________________\n",
            "dropout (Dropout)            (None, 6272)              0         \n",
            "_________________________________________________________________\n",
            "dense (Dense)                (None, 512)               3211776   \n",
            "_________________________________________________________________\n",
            "dense_1 (Dense)              (None, 3)                 1539      \n",
            "=================================================================\n",
            "Total params: 3,454,147\n",
            "Trainable params: 3,454,147\n",
            "Non-trainable params: 0\n",
            "_________________________________________________________________\n"
          ],
          "name": "stdout"
        }
      ]
    },
    {
      "cell_type": "code",
      "metadata": {
        "id": "ZcFHX-gP_Ahc"
      },
      "source": [
        "# compile model dengan 'adam' optimizer loss function 'categorical_crossentropy' \n",
        "model.compile(loss='categorical_crossentropy',\n",
        "              optimizer=tf.optimizers.Adam(),\n",
        "              metrics=['accuracy', 'mean_absolute_error'])"
      ],
      "execution_count": 25,
      "outputs": []
    },
    {
      "cell_type": "markdown",
      "metadata": {
        "id": "z5H4umnM6DD1"
      },
      "source": [
        "**Melatih model dengan model fi dengan menggunakan Callback (Menghentikan training setelah akurasi melebihi 96 %)**"
      ]
    },
    {
      "cell_type": "code",
      "metadata": {
        "id": "odc21mhBOz6W"
      },
      "source": [
        "# Penggunaan Callback untuk menghindari overfitting dan menghentikan data training apabila akurasi telah melebihi 98 %\n",
        "class callbackClass(tf.keras.callbacks.Callback):\n",
        "  def on_epoch_end(self, epoch, logs={}):\n",
        "    if(logs.get('accuracy') > 0.98) and (logs.get('val_accuracy') > 0.98):\n",
        "      print(\"\\nAkurasi sudah mencukupi (melebihi 98%), Stop Data Training!\")\n",
        "      print(\n",
        "            \"Average Loss pada epoch {} adalah {:7.2f} \"\n",
        "            \"& Mean Absolute Error nya adalah {:7.2f}.\".format(\n",
        "                epoch, logs[\"loss\"], logs[\"mean_absolute_error\"]\n",
        "            )\n",
        "        )\n",
        "      self.model.stop_training = True"
      ],
      "execution_count": 26,
      "outputs": []
    },
    {
      "cell_type": "code",
      "metadata": {
        "id": "v-vzwYs97NMU",
        "outputId": "e009ce7b-a978-4d93-a41c-939fa517ac1c",
        "colab": {
          "base_uri": "https://localhost:8080/",
          "height": 806
        }
      },
      "source": [
        "dataModelHistory = model.fit(\n",
        "    train_generator,\n",
        "    steps_per_epoch = 40, # Total batch yang dieksekusi pada setiap epoch\n",
        "    epochs = 30, # Tambahkan nilai epochs jika akurasi model belum sesuai dengan yang diinginkan\n",
        "    validation_data = validation_generator, # Menampilkan akurasi pengujian data yang sudah divalidasi\n",
        "    validation_steps = 20, # Total Batch yang dieksekusi pada setiap epoch\n",
        "    verbose = 2,\n",
        "    callbacks=[callbackClass()]\n",
        ")\n"
      ],
      "execution_count": 27,
      "outputs": [
        {
          "output_type": "stream",
          "text": [
            "Epoch 1/30\n",
            "40/40 - 14s - loss: 1.0094 - accuracy: 0.4648 - mean_absolute_error: 0.4059 - val_loss: 0.8628 - val_accuracy: 0.5562 - val_mean_absolute_error: 0.3230\n",
            "Epoch 2/30\n",
            "40/40 - 13s - loss: 0.5880 - accuracy: 0.7789 - mean_absolute_error: 0.2240 - val_loss: 0.3149 - val_accuracy: 0.8859 - val_mean_absolute_error: 0.1228\n",
            "Epoch 3/30\n",
            "40/40 - 13s - loss: 0.3391 - accuracy: 0.8734 - mean_absolute_error: 0.1322 - val_loss: 0.1929 - val_accuracy: 0.9266 - val_mean_absolute_error: 0.0851\n",
            "Epoch 4/30\n",
            "40/40 - 13s - loss: 0.2476 - accuracy: 0.9094 - mean_absolute_error: 0.0935 - val_loss: 0.1862 - val_accuracy: 0.9469 - val_mean_absolute_error: 0.0749\n",
            "Epoch 5/30\n",
            "40/40 - 13s - loss: 0.1856 - accuracy: 0.9375 - mean_absolute_error: 0.0713 - val_loss: 0.1256 - val_accuracy: 0.9594 - val_mean_absolute_error: 0.0529\n",
            "Epoch 6/30\n",
            "40/40 - 13s - loss: 0.1541 - accuracy: 0.9445 - mean_absolute_error: 0.0579 - val_loss: 0.1418 - val_accuracy: 0.9594 - val_mean_absolute_error: 0.0532\n",
            "Epoch 7/30\n",
            "40/40 - 13s - loss: 0.1270 - accuracy: 0.9586 - mean_absolute_error: 0.0425 - val_loss: 0.1164 - val_accuracy: 0.9656 - val_mean_absolute_error: 0.0344\n",
            "Epoch 8/30\n",
            "40/40 - 13s - loss: 0.1518 - accuracy: 0.9469 - mean_absolute_error: 0.0574 - val_loss: 0.0877 - val_accuracy: 0.9719 - val_mean_absolute_error: 0.0348\n",
            "Epoch 9/30\n",
            "40/40 - 13s - loss: 0.1081 - accuracy: 0.9594 - mean_absolute_error: 0.0354 - val_loss: 0.1126 - val_accuracy: 0.9641 - val_mean_absolute_error: 0.0434\n",
            "Epoch 10/30\n",
            "40/40 - 13s - loss: 0.1005 - accuracy: 0.9664 - mean_absolute_error: 0.0369 - val_loss: 0.0659 - val_accuracy: 0.9719 - val_mean_absolute_error: 0.0267\n",
            "Epoch 11/30\n",
            "40/40 - 13s - loss: 0.0923 - accuracy: 0.9672 - mean_absolute_error: 0.0314 - val_loss: 0.0798 - val_accuracy: 0.9750 - val_mean_absolute_error: 0.0224\n",
            "Epoch 12/30\n",
            "40/40 - 13s - loss: 0.1018 - accuracy: 0.9664 - mean_absolute_error: 0.0328 - val_loss: 0.0846 - val_accuracy: 0.9812 - val_mean_absolute_error: 0.0389\n",
            "Epoch 13/30\n",
            "40/40 - 13s - loss: 0.0882 - accuracy: 0.9711 - mean_absolute_error: 0.0364 - val_loss: 0.0611 - val_accuracy: 0.9844 - val_mean_absolute_error: 0.0171\n",
            "Epoch 14/30\n",
            "40/40 - 13s - loss: 0.0633 - accuracy: 0.9805 - mean_absolute_error: 0.0219 - val_loss: 0.0706 - val_accuracy: 0.9781 - val_mean_absolute_error: 0.0210\n",
            "Epoch 15/30\n",
            "40/40 - 13s - loss: 0.0893 - accuracy: 0.9711 - mean_absolute_error: 0.0283 - val_loss: 0.0725 - val_accuracy: 0.9812 - val_mean_absolute_error: 0.0327\n",
            "Epoch 16/30\n",
            "40/40 - 13s - loss: 0.0696 - accuracy: 0.9781 - mean_absolute_error: 0.0239 - val_loss: 0.1201 - val_accuracy: 0.9672 - val_mean_absolute_error: 0.0275\n",
            "Epoch 17/30\n",
            "40/40 - 13s - loss: 0.0586 - accuracy: 0.9812 - mean_absolute_error: 0.0208 - val_loss: 0.1510 - val_accuracy: 0.9469 - val_mean_absolute_error: 0.0465\n",
            "Epoch 18/30\n",
            "40/40 - 13s - loss: 0.0673 - accuracy: 0.9734 - mean_absolute_error: 0.0233 - val_loss: 0.0847 - val_accuracy: 0.9703 - val_mean_absolute_error: 0.0270\n",
            "Epoch 19/30\n",
            "40/40 - 13s - loss: 0.0598 - accuracy: 0.9820 - mean_absolute_error: 0.0218 - val_loss: 0.0678 - val_accuracy: 0.9797 - val_mean_absolute_error: 0.0190\n",
            "Epoch 20/30\n",
            "40/40 - 13s - loss: 0.0565 - accuracy: 0.9836 - mean_absolute_error: 0.0183 - val_loss: 0.1557 - val_accuracy: 0.9453 - val_mean_absolute_error: 0.0475\n",
            "Epoch 21/30\n",
            "40/40 - 13s - loss: 0.0684 - accuracy: 0.9734 - mean_absolute_error: 0.0257 - val_loss: 0.0728 - val_accuracy: 0.9797 - val_mean_absolute_error: 0.0177\n",
            "Epoch 22/30\n",
            "\n",
            "Akurasi sudah mencukupi (melebihi 98%), Stop Data Training!\n",
            "Average Loss pada epoch 21 adalah    0.05 & Mean Absolute Error nya adalah    0.02.\n",
            "40/40 - 13s - loss: 0.0494 - accuracy: 0.9836 - mean_absolute_error: 0.0156 - val_loss: 0.0447 - val_accuracy: 0.9859 - val_mean_absolute_error: 0.0137\n"
          ],
          "name": "stdout"
        }
      ]
    },
    {
      "cell_type": "markdown",
      "metadata": {
        "id": "1YHupADzEFz1"
      },
      "source": [
        "**Gambar / Plot Model Accuracy, Model Loss, dan Mean Absolute Error dari Training Data and Validation Data**"
      ]
    },
    {
      "cell_type": "code",
      "metadata": {
        "id": "ezGLcxezEi23",
        "outputId": "9d5e2a68-ad6e-4c75-e1c0-59c64290d121",
        "colab": {
          "base_uri": "https://localhost:8080/",
          "height": 851
        }
      },
      "source": [
        "import matplotlib.pyplot as plt\n",
        "\n",
        "#Model Accuracy Ploting\n",
        "accuracy = dataModelHistory.history['accuracy']\n",
        "validationAccuracy = dataModelHistory.history['val_accuracy']\n",
        "\n",
        "plt.figure()\n",
        "plt.plot(accuracy, color='green')\n",
        "plt.plot(validationAccuracy, color='red')\n",
        "plt.title('Data Model Accuracy')\n",
        "plt.ylabel('Accuracy')\n",
        "plt.xlabel('Epoch')\n",
        "plt.legend(['Train', 'Validation'], loc='upper left')\n",
        "plt.show()\n",
        "\n",
        "#Model Loss Plotting\n",
        "loss = dataModelHistory.history['loss']\n",
        "validationLoss = dataModelHistory.history['val_loss']\n",
        "\n",
        "plt.figure()\n",
        "plt.plot(loss, color='green')\n",
        "plt.plot(validationLoss, color='red')\n",
        "plt.title('Data Model Loss')\n",
        "plt.ylabel('Loss')\n",
        "plt.xlabel('Epoch')\n",
        "plt.legend(['Train', 'Validation'], loc='upper right')\n",
        "plt.show()\n",
        "\n",
        "#Mean Absolute Error Plotting\n",
        "meanAbsError = dataModelHistory.history['mean_absolute_error']\n",
        "valMeanAbsError = dataModelHistory.history['val_loss']\n",
        "\n",
        "plt.figure()\n",
        "plt.plot(meanAbsError, color='green')\n",
        "plt.plot(valMeanAbsError, color='red')\n",
        "plt.title('Mean Absolute Error (MAE)')\n",
        "plt.ylabel('MAE')\n",
        "plt.xlabel('Epoch')\n",
        "plt.legend(['Train', 'Validation'], loc='upper right')\n",
        "plt.show()"
      ],
      "execution_count": 28,
      "outputs": [
        {
          "output_type": "display_data",
          "data": {
            "image/png": "[encoded data removed]",
            "text/plain": [
              "<Figure size 432x288 with 1 Axes>"
            ]
          },
          "metadata": {
            "tags": [],
            "needs_background": "light"
          }
        },
        {
          "output_type": "display_data",
          "data": {
            "image/png": "[encoded data removed]",
            "text/plain": [
              "<Figure size 432x288 with 1 Axes>"
            ]
          },
          "metadata": {
            "tags": [],
            "needs_background": "light"
          }
        },
        {
          "output_type": "display_data",
          "data": {
            "image/png": "[encoded data removed]",
            "text/plain": [
              "<Figure size 432x288 with 1 Axes>"
            ]
          },
          "metadata": {
            "tags": [],
            "needs_background": "light"
          }
        }
      ]
    },
    {
      "cell_type": "code",
      "metadata": {
        "id": "I-9cJ-TLJbOE",
        "outputId": "10e9c5c2-324a-439f-ade6-71f187f15235",
        "colab": {
          "resources": {
            "http://localhost:8080/nbextensions/google.colab/files.js": {
              "data": "Ly8gQ29weXJpZ2h0IDIwMTcgR29vZ2xlIExMQwovLwovLyBMaWNlbnNlZCB1bmRlciB0aGUgQXBhY2hlIExpY2Vuc2UsIFZlcnNpb24gMi4wICh0aGUgIkxpY2Vuc2UiKTsKLy8geW91IG1heSBub3QgdXNlIHRoaXMgZmlsZSBleGNlcHQgaW4gY29tcGxpYW5jZSB3aXRoIHRoZSBMaWNlbnNlLgovLyBZb3UgbWF5IG9idGFpbiBhIGNvcHkgb2YgdGhlIExpY2Vuc2UgYXQKLy8KLy8gICAgICBodHRwOi8vd3d3LmFwYWNoZS5vcmcvbGljZW5zZXMvTElDRU5TRS0yLjAKLy8KLy8gVW5sZXNzIHJlcXVpcmVkIGJ5IGFwcGxpY2FibGUgbGF3IG9yIGFncmVlZCB0byBpbiB3cml0aW5nLCBzb2Z0d2FyZQovLyBkaXN0cmlidXRlZCB1bmRlciB0aGUgTGljZW5zZSBpcyBkaXN0cmlidXRlZCBvbiBhbiAiQVMgSVMiIEJBU0lTLAovLyBXSVRIT1VUIFdBUlJBTlRJRVMgT1IgQ09ORElUSU9OUyBPRiBBTlkgS0lORCwgZWl0aGVyIGV4cHJlc3Mgb3IgaW1wbGllZC4KLy8gU2VlIHRoZSBMaWNlbnNlIGZvciB0aGUgc3BlY2lmaWMgbGFuZ3VhZ2UgZ292ZXJuaW5nIHBlcm1pc3Npb25zIGFuZAovLyBsaW1pdGF0aW9ucyB1bmRlciB0aGUgTGljZW5zZS4KCi8qKgogKiBAZmlsZW92ZXJ2aWV3IEhlbHBlcnMgZm9yIGdvb2dsZS5jb2xhYiBQeXRob24gbW9kdWxlLgogKi8KKGZ1bmN0aW9uKHNjb3BlKSB7CmZ1bmN0aW9uIHNwYW4odGV4dCwgc3R5bGVBdHRyaWJ1dGVzID0ge30pIHsKICBjb25zdCBlbGVtZW50ID0gZG9jdW1lbnQuY3JlYXRlRWxlbWVudCgnc3BhbicpOwogIGVsZW1lbnQudGV4dENvbnRlbnQgPSB0ZXh0OwogIGZvciAoY29uc3Qga2V5IG9mIE9iamVjdC5rZXlzKHN0eWxlQXR0cmlidXRlcykpIHsKICAgIGVsZW1lbnQuc3R5bGVba2V5XSA9IHN0eWxlQXR0cmlidXRlc1trZXldOwogIH0KICByZXR1cm4gZWxlbWVudDsKfQoKLy8gTWF4IG51bWJlciBvZiBieXRlcyB3aGljaCB3aWxsIGJlIHVwbG9hZGVkIGF0IGEgdGltZS4KY29uc3QgTUFYX1BBWUxPQURfU0laRSA9IDEwMCAqIDEwMjQ7CgpmdW5jdGlvbiBfdXBsb2FkRmlsZXMoaW5wdXRJZCwgb3V0cHV0SWQpIHsKICBjb25zdCBzdGVwcyA9IHVwbG9hZEZpbGVzU3RlcChpbnB1dElkLCBvdXRwdXRJZCk7CiAgY29uc3Qgb3V0cHV0RWxlbWVudCA9IGRvY3VtZW50LmdldEVsZW1lbnRCeUlkKG91dHB1dElkKTsKICAvLyBDYWNoZSBzdGVwcyBvbiB0aGUgb3V0cHV0RWxlbWVudCB0byBtYWtlIGl0IGF2YWlsYWJsZSBmb3IgdGhlIG5leHQgY2FsbAogIC8vIHRvIHVwbG9hZEZpbGVzQ29udGludWUgZnJvbSBQeXRob24uCiAgb3V0cHV0RWxlbWVudC5zdGVwcyA9IHN0ZXBzOwoKICByZXR1cm4gX3VwbG9hZEZpbGVzQ29udGludWUob3V0cHV0SWQpOwp9CgovLyBUaGlzIGlzIHJvdWdobHkgYW4gYXN5bmMgZ2VuZXJhdG9yIChub3Qgc3VwcG9ydGVkIGluIHRoZSBicm93c2VyIHlldCksCi8vIHdoZXJlIHRoZXJlIGFyZSBtdWx0aXBsZSBhc3luY2hyb25vdXMgc3RlcHMgYW5kIHRoZSBQeXRob24gc2lkZSBpcyBnb2luZwovLyB0byBwb2xsIGZvciBjb21wbGV0aW9uIG9mIGVhY2ggc3RlcC4KLy8gVGhpcyB1c2VzIGEgUHJvbWlzZSB0byBibG9jayB0aGUgcHl0aG9uIHNpZGUgb24gY29tcGxldGlvbiBvZiBlYWNoIHN0ZXAsCi8vIHRoZW4gcGFzc2VzIHRoZSByZXN1bHQgb2YgdGhlIHByZXZpb3VzIHN0ZXAgYXMgdGhlIGlucHV0IHRvIHRoZSBuZXh0IHN0ZXAuCmZ1bmN0aW9uIF91cGxvYWRGaWxlc0NvbnRpbnVlKG91dHB1dElkKSB7CiAgY29uc3Qgb3V0cHV0RWxlbWVudCA9IGRvY3VtZW50LmdldEVsZW1lbnRCeUlkKG91dHB1dElkKTsKICBjb25zdCBzdGVwcyA9IG91dHB1dEVsZW1lbnQuc3RlcHM7CgogIGNvbnN0IG5leHQgPSBzdGVwcy5uZXh0KG91dHB1dEVsZW1lbnQubGFzdFByb21pc2VWYWx1ZSk7CiAgcmV0dXJuIFByb21pc2UucmVzb2x2ZShuZXh0LnZhbHVlLnByb21pc2UpLnRoZW4oKHZhbHVlKSA9PiB7CiAgICAvLyBDYWNoZSB0aGUgbGFzdCBwcm9taXNlIHZhbHVlIHRvIG1ha2UgaXQgYXZhaWxhYmxlIHRvIHRoZSBuZXh0CiAgICAvLyBzdGVwIG9mIHRoZSBnZW5lcmF0b3IuCiAgICBvdXRwdXRFbGVtZW50Lmxhc3RQcm9taXNlVmFsdWUgPSB2YWx1ZTsKICAgIHJldHVybiBuZXh0LnZhbHVlLnJlc3BvbnNlOwogIH0pOwp9CgovKioKICogR2VuZXJhdG9yIGZ1bmN0aW9uIHdoaWNoIGlzIGNhbGxlZCBiZXR3ZWVuIGVhY2ggYXN5bmMgc3RlcCBvZiB0aGUgdXBsb2FkCiAqIHByb2Nlc3MuCiAqIEBwYXJhbSB7c3RyaW5nfSBpbnB1dElkIEVsZW1lbnQgSUQgb2YgdGhlIGlucHV0IGZpbGUgcGlja2VyIGVsZW1lbnQuCiAqIEBwYXJhbSB7c3RyaW5nfSBvdXRwdXRJZCBFbGVtZW50IElEIG9mIHRoZSBvdXRwdXQgZGlzcGxheS4KICogQHJldHVybiB7IUl0ZXJhYmxlPCFPYmplY3Q+fSBJdGVyYWJsZSBvZiBuZXh0IHN0ZXBzLgogKi8KZnVuY3Rpb24qIHVwbG9hZEZpbGVzU3RlcChpbnB1dElkLCBvdXRwdXRJZCkgewogIGNvbnN0IGlucHV0RWxlbWVudCA9IGRvY3VtZW50LmdldEVsZW1lbnRCeUlkKGlucHV0SWQpOwogIGlucHV0RWxlbWVudC5kaXNhYmxlZCA9IGZhbHNlOwoKICBjb25zdCBvdXRwdXRFbGVtZW50ID0gZG9jdW1lbnQuZ2V0RWxlbWVudEJ5SWQob3V0cHV0SWQpOwogIG91dHB1dEVsZW1lbnQuaW5uZXJIVE1MID0gJyc7CgogIGNvbnN0IHBpY2tlZFByb21pc2UgPSBuZXcgUHJvbWlzZSgocmVzb2x2ZSkgPT4gewogICAgaW5wdXRFbGVtZW50LmFkZEV2ZW50TGlzdGVuZXIoJ2NoYW5nZScsIChlKSA9PiB7CiAgICAgIHJlc29sdmUoZS50YXJnZXQuZmlsZXMpOwogICAgfSk7CiAgfSk7CgogIGNvbnN0IGNhbmNlbCA9IGRvY3VtZW50LmNyZWF0ZUVsZW1lbnQoJ2J1dHRvbicpOwogIGlucHV0RWxlbWVudC5wYXJlbnRFbGVtZW50LmFwcGVuZENoaWxkKGNhbmNlbCk7CiAgY2FuY2VsLnRleHRDb250ZW50ID0gJ0NhbmNlbCB1cGxvYWQnOwogIGNvbnN0IGNhbmNlbFByb21pc2UgPSBuZXcgUHJvbWlzZSgocmVzb2x2ZSkgPT4gewogICAgY2FuY2VsLm9uY2xpY2sgPSAoKSA9PiB7CiAgICAgIHJlc29sdmUobnVsbCk7CiAgICB9OwogIH0pOwoKICAvLyBXYWl0IGZvciB0aGUgdXNlciB0byBwaWNrIHRoZSBmaWxlcy4KICBjb25zdCBmaWxlcyA9IHlpZWxkIHsKICAgIHByb21pc2U6IFByb21pc2UucmFjZShbcGlja2VkUHJvbWlzZSwgY2FuY2VsUHJvbWlzZV0pLAogICAgcmVzcG9uc2U6IHsKICAgICAgYWN0aW9uOiAnc3RhcnRpbmcnLAogICAgfQogIH07CgogIGNhbmNlbC5yZW1vdmUoKTsKCiAgLy8gRGlzYWJsZSB0aGUgaW5wdXQgZWxlbWVudCBzaW5jZSBmdXJ0aGVyIHBpY2tzIGFyZSBub3QgYWxsb3dlZC4KICBpbnB1dEVsZW1lbnQuZGlzYWJsZWQgPSB0cnVlOwoKICBpZiAoIWZpbGVzKSB7CiAgICByZXR1cm4gewogICAgICByZXNwb25zZTogewogICAgICAgIGFjdGlvbjogJ2NvbXBsZXRlJywKICAgICAgfQogICAgfTsKICB9CgogIGZvciAoY29uc3QgZmlsZSBvZiBmaWxlcykgewogICAgY29uc3QgbGkgPSBkb2N1bWVudC5jcmVhdGVFbGVtZW50KCdsaScpOwogICAgbGkuYXBwZW5kKHNwYW4oZmlsZS5uYW1lLCB7Zm9udFdlaWdodDogJ2JvbGQnfSkpOwogICAgbGkuYXBwZW5kKHNwYW4oCiAgICAgICAgYCgke2ZpbGUudHlwZSB8fCAnbi9hJ30pIC0gJHtmaWxlLnNpemV9IGJ5dGVzLCBgICsKICAgICAgICBgbGFzdCBtb2RpZmllZDogJHsKICAgICAgICAgICAgZmlsZS5sYXN0TW9kaWZpZWREYXRlID8gZmlsZS5sYXN0TW9kaWZpZWREYXRlLnRvTG9jYWxlRGF0ZVN0cmluZygpIDoKICAgICAgICAgICAgICAgICAgICAgICAgICAgICAgICAgICAgJ24vYSd9IC0gYCkpOwogICAgY29uc3QgcGVyY2VudCA9IHNwYW4oJzAlIGRvbmUnKTsKICAgIGxpLmFwcGVuZENoaWxkKHBlcmNlbnQpOwoKICAgIG91dHB1dEVsZW1lbnQuYXBwZW5kQ2hpbGQobGkpOwoKICAgIGNvbnN0IGZpbGVEYXRhUHJvbWlzZSA9IG5ldyBQcm9taXNlKChyZXNvbHZlKSA9PiB7CiAgICAgIGNvbnN0IHJlYWRlciA9IG5ldyBGaWxlUmVhZGVyKCk7CiAgICAgIHJlYWRlci5vbmxvYWQgPSAoZSkgPT4gewogICAgICAgIHJlc29sdmUoZS50YXJnZXQucmVzdWx0KTsKICAgICAgfTsKICAgICAgcmVhZGVyLnJlYWRBc0FycmF5QnVmZmVyKGZpbGUpOwogICAgfSk7CiAgICAvLyBXYWl0IGZvciB0aGUgZGF0YSB0byBiZSByZWFkeS4KICAgIGxldCBmaWxlRGF0YSA9IHlpZWxkIHsKICAgICAgcHJvbWlzZTogZmlsZURhdGFQcm9taXNlLAogICAgICByZXNwb25zZTogewogICAgICAgIGFjdGlvbjogJ2NvbnRpbnVlJywKICAgICAgfQogICAgfTsKCiAgICAvLyBVc2UgYSBjaHVua2VkIHNlbmRpbmcgdG8gYXZvaWQgbWVzc2FnZSBzaXplIGxpbWl0cy4gU2VlIGIvNjIxMTU2NjAuCiAgICBsZXQgcG9zaXRpb24gPSAwOwogICAgd2hpbGUgKHBvc2l0aW9uIDwgZmlsZURhdGEuYnl0ZUxlbmd0aCkgewogICAgICBjb25zdCBsZW5ndGggPSBNYXRoLm1pbihmaWxlRGF0YS5ieXRlTGVuZ3RoIC0gcG9zaXRpb24sIE1BWF9QQVlMT0FEX1NJWkUpOwogICAgICBjb25zdCBjaHVuayA9IG5ldyBVaW50OEFycmF5KGZpbGVEYXRhLCBwb3NpdGlvbiwgbGVuZ3RoKTsKICAgICAgcG9zaXRpb24gKz0gbGVuZ3RoOwoKICAgICAgY29uc3QgYmFzZTY0ID0gYnRvYShTdHJpbmcuZnJvbUNoYXJDb2RlLmFwcGx5KG51bGwsIGNodW5rKSk7CiAgICAgIHlpZWxkIHsKICAgICAgICByZXNwb25zZTogewogICAgICAgICAgYWN0aW9uOiAnYXBwZW5kJywKICAgICAgICAgIGZpbGU6IGZpbGUubmFtZSwKICAgICAgICAgIGRhdGE6IGJhc2U2NCwKICAgICAgICB9LAogICAgICB9OwogICAgICBwZXJjZW50LnRleHRDb250ZW50ID0KICAgICAgICAgIGAke01hdGgucm91bmQoKHBvc2l0aW9uIC8gZmlsZURhdGEuYnl0ZUxlbmd0aCkgKiAxMDApfSUgZG9uZWA7CiAgICB9CiAgfQoKICAvLyBBbGwgZG9uZS4KICB5aWVsZCB7CiAgICByZXNwb25zZTogewogICAgICBhY3Rpb246ICdjb21wbGV0ZScsCiAgICB9CiAgfTsKfQoKc2NvcGUuZ29vZ2xlID0gc2NvcGUuZ29vZ2xlIHx8IHt9OwpzY29wZS5nb29nbGUuY29sYWIgPSBzY29wZS5nb29nbGUuY29sYWIgfHwge307CnNjb3BlLmdvb2dsZS5jb2xhYi5fZmlsZXMgPSB7CiAgX3VwbG9hZEZpbGVzLAogIF91cGxvYWRGaWxlc0NvbnRpbnVlLAp9Owp9KShzZWxmKTsK",
              "ok": true,
              "headers": [
                [
                  "content-type",
                  "application/javascript"
                ]
              ],
              "status": 200,
              "status_text": ""
            }
          },
          "base_uri": "https://localhost:8080/",
          "height": 342
        }
      },
      "source": [
        "import numpy as np\n",
        "from google.colab import files\n",
        "from keras.preprocessing import image\n",
        "import matplotlib.pyplot as plt\n",
        "import matplotlib.image as mpimg\n",
        "import matplotlib.pyplot as plt\n",
        "import matplotlib.image as mpimg\n",
        "%matplotlib inline\n",
        " \n",
        "uploadedData = files.upload()\n",
        " \n",
        "for data in uploadedData.keys():\n",
        "  # predicting images\n",
        "  path = data\n",
        "  img = image.load_img(path, target_size=(150,150))\n",
        "  imgplot = plt.imshow(img)\n",
        "  x = image.img_to_array(img)\n",
        "  x = np.expand_dims(x, axis=0)\n",
        " \n",
        "  pics = np.vstack([x])\n",
        "  classes = model.predict(pics, batch_size=32)\n",
        "\n",
        "  if classes[0,0]!=0:\n",
        "    print('Paper')\n",
        "  elif classes[0,1]!=0:\n",
        "    print('Rock')\n",
        "  elif classes[0,2]!=0:\n",
        "    print('Scissors')\n",
        "  else:\n",
        "    print(\"Klasifikasi Gambar tidak dikenali\")"
      ],
      "execution_count": 44,
      "outputs": [
        {
          "output_type": "display_data",
          "data": {
            "text/html": [
              "\n",
              "     <input type=\"file\" id=\"files-fe5ed5a0-2c26-4305-bb2f-6c8ce256fd2f\" name=\"files[]\" multiple disabled\n",
              "        style=\"border:none\" />\n",
              "     <output id=\"result-fe5ed5a0-2c26-4305-bb2f-6c8ce256fd2f\">\n",
              "      Upload widget is only available when the cell has been executed in the\n",
              "      current browser session. Please rerun this cell to enable.\n",
              "      </output>\n",
              "      <script src=\"/nbextensions/google.colab/files.js\"></script> "
            ],
            "text/plain": [
              "<IPython.core.display.HTML object>"
            ]
          },
          "metadata": {
            "tags": []
          }
        },
        {
          "output_type": "stream",
          "text": [
            "Saving 2gd0aqAxW55bHZP9.png to 2gd0aqAxW55bHZP9.png\n",
            "Scissors\n"
          ],
          "name": "stdout"
        },
        {
          "output_type": "display_data",
          "data": {
            "image/png": "[encoded data removed]",
            "text/plain": [
              "<Figure size 432x288 with 1 Axes>"
            ]
          },
          "metadata": {
            "tags": [],
            "needs_background": "light"
          }
        }
      ]
    }
  ]
}
